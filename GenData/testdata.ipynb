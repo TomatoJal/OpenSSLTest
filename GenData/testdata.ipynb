{
 "cells": [
  {
   "cell_type": "code",
   "execution_count": 16,
   "id": "5794f613",
   "metadata": {},
   "outputs": [],
   "source": [
    "data = list()\n",
    "j = 0x41\n",
    "for i in range(0, 32*1024):\n",
    "    if i%8192 == 0 and i!=0:\n",
    "        j += 1\n",
    "    data.append(j)"
   ]
  },
  {
   "cell_type": "code",
   "execution_count": 17,
   "id": "0c60796c",
   "metadata": {},
   "outputs": [
    {
     "data": {
      "text/plain": [
       "68"
      ]
     },
     "execution_count": 17,
     "metadata": {},
     "output_type": "execute_result"
    }
   ],
   "source": [
    "data[-1]"
   ]
  },
  {
   "cell_type": "code",
   "execution_count": 18,
   "id": "78f12dec",
   "metadata": {},
   "outputs": [],
   "source": [
    "data = bytearray(data)"
   ]
  },
  {
   "cell_type": "code",
   "execution_count": 19,
   "id": "a65ab3c0",
   "metadata": {},
   "outputs": [],
   "source": [
    "file = open(\"data.bin\", \"wb\")"
   ]
  },
  {
   "cell_type": "code",
   "execution_count": 20,
   "id": "e873343c",
   "metadata": {},
   "outputs": [
    {
     "data": {
      "text/plain": [
       "32768"
      ]
     },
     "execution_count": 20,
     "metadata": {},
     "output_type": "execute_result"
    }
   ],
   "source": [
    "file.write(data)"
   ]
  },
  {
   "cell_type": "code",
   "execution_count": 21,
   "id": "6d44a85c",
   "metadata": {},
   "outputs": [],
   "source": [
    "file.close()"
   ]
  },
  {
   "cell_type": "code",
   "execution_count": null,
   "id": "5f67b53c",
   "metadata": {},
   "outputs": [],
   "source": []
  }
 ],
 "metadata": {
  "kernelspec": {
   "display_name": "Python 3",
   "language": "python",
   "name": "python3"
  },
  "language_info": {
   "codemirror_mode": {
    "name": "ipython",
    "version": 3
   },
   "file_extension": ".py",
   "mimetype": "text/x-python",
   "name": "python",
   "nbconvert_exporter": "python",
   "pygments_lexer": "ipython3",
   "version": "3.9.5"
  },
  "toc": {
   "base_numbering": 1,
   "nav_menu": {},
   "number_sections": true,
   "sideBar": true,
   "skip_h1_title": false,
   "title_cell": "Table of Contents",
   "title_sidebar": "Contents",
   "toc_cell": false,
   "toc_position": {},
   "toc_section_display": true,
   "toc_window_display": false
  }
 },
 "nbformat": 4,
 "nbformat_minor": 5
}
